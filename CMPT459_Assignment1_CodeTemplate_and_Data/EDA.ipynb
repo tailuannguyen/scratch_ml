{
    "cells": [
        {
            "cell_type": "markdown",
            "metadata": {
                "formattedRanges": [],
                "cell_id": "8e51e8951e864fccb4dec443814f3314",
                "deepnote_cell_type": "text-cell-p"
            },
            "source": "",
            "block_group": "1ce6098a8dbe4231ad479b5fed0c1fd5"
        },
        {
            "cell_type": "code",
            "metadata": {
                "source_hash": "9b82ee11",
                "execution_start": 1759199274664,
                "execution_millis": 1,
                "execution_context_id": "609bb01e-cdef-4180-9d2a-f181392b0388",
                "cell_id": "adfaee14d0d54ba4b72bdc6524c10310",
                "deepnote_cell_type": "code"
            },
            "source": "import pandas as pd",
            "block_group": "0a027525e02e4262a577b0523c5e33fb",
            "execution_count": 16,
            "outputs": [],
            "outputs_reference": null,
            "content_dependencies": null
        },
        {
            "cell_type": "code",
            "metadata": {
                "source_hash": "df1116a6",
                "execution_start": 1759199444585,
                "execution_millis": 347,
                "sql_integration_id": "deepnote-dataframe-sql",
                "execution_context_id": "609bb01e-cdef-4180-9d2a-f181392b0388",
                "deepnote_variable_name": "df_1",
                "cell_id": "fb62b5131ab243819990d26c97ba350a",
                "deepnote_cell_type": "sql",
                "deepnote_sql_source": "select *\nfrom \"data/test.csv\"\nlimit 10"
            },
            "source": "df_1 = _dntk.execute_sql(\n  'select *\\nfrom \"data/test.csv\"\\nlimit 10',\n  'SQL_DEEPNOTE_DATAFRAME_SQL',\n  audit_sql_comment='',\n  sql_cache_mode='cache_disabled',\n  return_variable_type='dataframe'\n)\ndf_1",
            "block_group": "33334bcb7cc24417bd2ee5fa2df1c482",
            "execution_count": 28,
            "outputs": [
                {
                    "output_type": "execute_result",
                    "execution_count": 28,
                    "data": {
                        "application/vnd.deepnote.dataframe.v3+json": {
                            "column_count": 15,
                            "columns": [
                                {
                                    "name": "age",
                                    "dtype": "int64",
                                    "stats": {
                                        "unique_count": 10,
                                        "nan_count": 0,
                                        "min": "18",
                                        "max": "63",
                                        "histogram": [
                                            {
                                                "bin_start": 18,
                                                "bin_end": 22.5,
                                                "count": 1
                                            },
                                            {
                                                "bin_start": 22.5,
                                                "bin_end": 27,
                                                "count": 2
                                            },
                                            {
                                                "bin_start": 27,
                                                "bin_end": 31.5,
                                                "count": 2
                                            },
                                            {
                                                "bin_start": 31.5,
                                                "bin_end": 36,
                                                "count": 1
                                            },
                                            {
                                                "bin_start": 36,
                                                "bin_end": 40.5,
                                                "count": 1
                                            },
                                            {
                                                "bin_start": 40.5,
                                                "bin_end": 45,
                                                "count": 1
                                            },
                                            {
                                                "bin_start": 45,
                                                "bin_end": 49.5,
                                                "count": 0
                                            },
                                            {
                                                "bin_start": 49.5,
                                                "bin_end": 54,
                                                "count": 0
                                            },
                                            {
                                                "bin_start": 54,
                                                "bin_end": 58.5,
                                                "count": 1
                                            },
                                            {
                                                "bin_start": 58.5,
                                                "bin_end": 63,
                                                "count": 1
                                            }
                                        ],
                                        "categories": null
                                    }
                                },
                                {
                                    "name": "workclass",
                                    "dtype": "object",
                                    "stats": {
                                        "unique_count": 4,
                                        "nan_count": 0,
                                        "min": null,
                                        "max": null,
                                        "histogram": null,
                                        "categories": [
                                            {
                                                "name": " Private",
                                                "count": 6
                                            },
                                            {
                                                "name": " ?",
                                                "count": 2
                                            },
                                            {
                                                "name": "2 others",
                                                "count": 2
                                            }
                                        ]
                                    }
                                },
                                {
                                    "name": "fnlwgt",
                                    "dtype": "int64",
                                    "stats": {
                                        "unique_count": 10,
                                        "nan_count": 0,
                                        "min": "89814",
                                        "max": "369667",
                                        "histogram": [
                                            {
                                                "bin_start": 89814,
                                                "bin_end": 117799.3,
                                                "count": 4
                                            },
                                            {
                                                "bin_start": 117799.3,
                                                "bin_end": 145784.6,
                                                "count": 0
                                            },
                                            {
                                                "bin_start": 145784.6,
                                                "bin_end": 173769.9,
                                                "count": 1
                                            },
                                            {
                                                "bin_start": 173769.9,
                                                "bin_end": 201755.2,
                                                "count": 1
                                            },
                                            {
                                                "bin_start": 201755.2,
                                                "bin_end": 229740.5,
                                                "count": 2
                                            },
                                            {
                                                "bin_start": 229740.5,
                                                "bin_end": 257725.8,
                                                "count": 0
                                            },
                                            {
                                                "bin_start": 257725.8,
                                                "bin_end": 285711.1,
                                                "count": 0
                                            },
                                            {
                                                "bin_start": 285711.1,
                                                "bin_end": 313696.4,
                                                "count": 0
                                            },
                                            {
                                                "bin_start": 313696.4,
                                                "bin_end": 341681.69999999995,
                                                "count": 1
                                            },
                                            {
                                                "bin_start": 341681.69999999995,
                                                "bin_end": 369667,
                                                "count": 1
                                            }
                                        ],
                                        "categories": null
                                    }
                                },
                                {
                                    "name": "education",
                                    "dtype": "object",
                                    "stats": {
                                        "unique_count": 7,
                                        "nan_count": 0,
                                        "min": null,
                                        "max": null,
                                        "histogram": null,
                                        "categories": [
                                            {
                                                "name": " Some-college",
                                                "count": 3
                                            },
                                            {
                                                "name": " HS-grad",
                                                "count": 2
                                            },
                                            {
                                                "name": "5 others",
                                                "count": 5
                                            }
                                        ]
                                    }
                                },
                                {
                                    "name": "education-num",
                                    "dtype": "int64",
                                    "stats": {
                                        "unique_count": 7,
                                        "nan_count": 0,
                                        "min": "4",
                                        "max": "15",
                                        "histogram": [
                                            {
                                                "bin_start": 4,
                                                "bin_end": 5.1,
                                                "count": 1
                                            },
                                            {
                                                "bin_start": 5.1,
                                                "bin_end": 6.2,
                                                "count": 1
                                            },
                                            {
                                                "bin_start": 6.2,
                                                "bin_end": 7.300000000000001,
                                                "count": 1
                                            },
                                            {
                                                "bin_start": 7.300000000000001,
                                                "bin_end": 8.4,
                                                "count": 0
                                            },
                                            {
                                                "bin_start": 8.4,
                                                "bin_end": 9.5,
                                                "count": 2
                                            },
                                            {
                                                "bin_start": 9.5,
                                                "bin_end": 10.600000000000001,
                                                "count": 3
                                            },
                                            {
                                                "bin_start": 10.600000000000001,
                                                "bin_end": 11.700000000000001,
                                                "count": 0
                                            },
                                            {
                                                "bin_start": 11.700000000000001,
                                                "bin_end": 12.8,
                                                "count": 1
                                            },
                                            {
                                                "bin_start": 12.8,
                                                "bin_end": 13.9,
                                                "count": 0
                                            },
                                            {
                                                "bin_start": 13.9,
                                                "bin_end": 15,
                                                "count": 1
                                            }
                                        ],
                                        "categories": null
                                    }
                                },
                                {
                                    "name": "marital-status",
                                    "dtype": "object",
                                    "stats": {
                                        "unique_count": 2,
                                        "nan_count": 0,
                                        "min": null,
                                        "max": null,
                                        "histogram": null,
                                        "categories": [
                                            {
                                                "name": " Never-married",
                                                "count": 5
                                            },
                                            {
                                                "name": " Married-civ-spouse",
                                                "count": 5
                                            }
                                        ]
                                    }
                                },
                                {
                                    "name": "occupation",
                                    "dtype": "object",
                                    "stats": {
                                        "unique_count": 7,
                                        "nan_count": 0,
                                        "min": null,
                                        "max": null,
                                        "histogram": null,
                                        "categories": [
                                            {
                                                "name": " Machine-op-inspct",
                                                "count": 2
                                            },
                                            {
                                                "name": " ?",
                                                "count": 2
                                            },
                                            {
                                                "name": "5 others",
                                                "count": 6
                                            }
                                        ]
                                    }
                                },
                                {
                                    "name": "relationship",
                                    "dtype": "object",
                                    "stats": {
                                        "unique_count": 4,
                                        "nan_count": 0,
                                        "min": null,
                                        "max": null,
                                        "histogram": null,
                                        "categories": [
                                            {
                                                "name": " Husband",
                                                "count": 5
                                            },
                                            {
                                                "name": " Own-child",
                                                "count": 2
                                            },
                                            {
                                                "name": "2 others",
                                                "count": 3
                                            }
                                        ]
                                    }
                                },
                                {
                                    "name": "race",
                                    "dtype": "object",
                                    "stats": {
                                        "unique_count": 2,
                                        "nan_count": 0,
                                        "min": null,
                                        "max": null,
                                        "histogram": null,
                                        "categories": [
                                            {
                                                "name": " White",
                                                "count": 7
                                            },
                                            {
                                                "name": " Black",
                                                "count": 3
                                            }
                                        ]
                                    }
                                },
                                {
                                    "name": "sex",
                                    "dtype": "object",
                                    "stats": {
                                        "unique_count": 2,
                                        "nan_count": 0,
                                        "min": null,
                                        "max": null,
                                        "histogram": null,
                                        "categories": [
                                            {
                                                "name": " Male",
                                                "count": 8
                                            },
                                            {
                                                "name": " Female",
                                                "count": 2
                                            }
                                        ]
                                    }
                                },
                                {
                                    "name": "capital-gain",
                                    "dtype": "int64",
                                    "stats": {
                                        "unique_count": 3,
                                        "nan_count": 0,
                                        "min": "0",
                                        "max": "7688",
                                        "histogram": [
                                            {
                                                "bin_start": 0,
                                                "bin_end": 768.8,
                                                "count": 8
                                            },
                                            {
                                                "bin_start": 768.8,
                                                "bin_end": 1537.6,
                                                "count": 0
                                            },
                                            {
                                                "bin_start": 1537.6,
                                                "bin_end": 2306.3999999999996,
                                                "count": 0
                                            },
                                            {
                                                "bin_start": 2306.3999999999996,
                                                "bin_end": 3075.2,
                                                "count": 0
                                            },
                                            {
                                                "bin_start": 3075.2,
                                                "bin_end": 3844,
                                                "count": 1
                                            },
                                            {
                                                "bin_start": 3844,
                                                "bin_end": 4612.799999999999,
                                                "count": 0
                                            },
                                            {
                                                "bin_start": 4612.799999999999,
                                                "bin_end": 5381.599999999999,
                                                "count": 0
                                            },
                                            {
                                                "bin_start": 5381.599999999999,
                                                "bin_end": 6150.4,
                                                "count": 0
                                            },
                                            {
                                                "bin_start": 6150.4,
                                                "bin_end": 6919.2,
                                                "count": 0
                                            },
                                            {
                                                "bin_start": 6919.2,
                                                "bin_end": 7688,
                                                "count": 1
                                            }
                                        ],
                                        "categories": null
                                    }
                                },
                                {
                                    "name": "capital-loss",
                                    "dtype": "int64",
                                    "stats": {
                                        "unique_count": 1,
                                        "nan_count": 0,
                                        "min": "0",
                                        "max": "0",
                                        "histogram": [
                                            {
                                                "bin_start": -0.5,
                                                "bin_end": -0.4,
                                                "count": 0
                                            },
                                            {
                                                "bin_start": -0.4,
                                                "bin_end": -0.3,
                                                "count": 0
                                            },
                                            {
                                                "bin_start": -0.3,
                                                "bin_end": -0.19999999999999996,
                                                "count": 0
                                            },
                                            {
                                                "bin_start": -0.19999999999999996,
                                                "bin_end": -0.09999999999999998,
                                                "count": 0
                                            },
                                            {
                                                "bin_start": -0.09999999999999998,
                                                "bin_end": 0,
                                                "count": 0
                                            },
                                            {
                                                "bin_start": 0,
                                                "bin_end": 0.10000000000000009,
                                                "count": 10
                                            },
                                            {
                                                "bin_start": 0.10000000000000009,
                                                "bin_end": 0.20000000000000007,
                                                "count": 0
                                            },
                                            {
                                                "bin_start": 0.20000000000000007,
                                                "bin_end": 0.30000000000000004,
                                                "count": 0
                                            },
                                            {
                                                "bin_start": 0.30000000000000004,
                                                "bin_end": 0.4,
                                                "count": 0
                                            },
                                            {
                                                "bin_start": 0.4,
                                                "bin_end": 0.5,
                                                "count": 0
                                            }
                                        ],
                                        "categories": null
                                    }
                                },
                                {
                                    "name": "hours-per-week",
                                    "dtype": "int64",
                                    "stats": {
                                        "unique_count": 5,
                                        "nan_count": 0,
                                        "min": "10",
                                        "max": "50",
                                        "histogram": [
                                            {
                                                "bin_start": 10,
                                                "bin_end": 14,
                                                "count": 1
                                            },
                                            {
                                                "bin_start": 14,
                                                "bin_end": 18,
                                                "count": 0
                                            },
                                            {
                                                "bin_start": 18,
                                                "bin_end": 22,
                                                "count": 0
                                            },
                                            {
                                                "bin_start": 22,
                                                "bin_end": 26,
                                                "count": 0
                                            },
                                            {
                                                "bin_start": 26,
                                                "bin_end": 30,
                                                "count": 0
                                            },
                                            {
                                                "bin_start": 30,
                                                "bin_end": 34,
                                                "count": 3
                                            },
                                            {
                                                "bin_start": 34,
                                                "bin_end": 38,
                                                "count": 0
                                            },
                                            {
                                                "bin_start": 38,
                                                "bin_end": 42,
                                                "count": 5
                                            },
                                            {
                                                "bin_start": 42,
                                                "bin_end": 46,
                                                "count": 0
                                            },
                                            {
                                                "bin_start": 46,
                                                "bin_end": 50,
                                                "count": 1
                                            }
                                        ],
                                        "categories": null
                                    }
                                },
                                {
                                    "name": "native-country",
                                    "dtype": "object",
                                    "stats": {
                                        "unique_count": 1,
                                        "nan_count": 0,
                                        "min": null,
                                        "max": null,
                                        "histogram": null,
                                        "categories": [
                                            {
                                                "name": " United-States",
                                                "count": 10
                                            }
                                        ]
                                    }
                                },
                                {
                                    "name": "income",
                                    "dtype": "object",
                                    "stats": {
                                        "unique_count": 2,
                                        "nan_count": 0,
                                        "min": null,
                                        "max": null,
                                        "histogram": null,
                                        "categories": [
                                            {
                                                "name": "<=50K",
                                                "count": 7
                                            },
                                            {
                                                "name": ">50K",
                                                "count": 3
                                            }
                                        ]
                                    }
                                },
                                {
                                    "name": "_deepnote_index_column",
                                    "dtype": "int64"
                                }
                            ],
                            "row_count": 10,
                            "preview_row_count": 10,
                            "rows": [
                                {
                                    "age": 25,
                                    "workclass": " Private",
                                    "fnlwgt": 226802,
                                    "education": "11th",
                                    "education-num": 7,
                                    "marital-status": " Never-married",
                                    "occupation": " Machine-op-inspct",
                                    "relationship": " Own-child",
                                    "race": " Black",
                                    "sex": " Male",
                                    "capital-gain": 0,
                                    "capital-loss": 0,
                                    "hours-per-week": 40,
                                    "native-country": " United-States",
                                    "income": "<=50K",
                                    "_deepnote_index_column": 0
                                },
                                {
                                    "age": 38,
                                    "workclass": " Private",
                                    "fnlwgt": 89814,
                                    "education": " HS-grad",
                                    "education-num": 9,
                                    "marital-status": " Married-civ-spouse",
                                    "occupation": " Farming-fishing",
                                    "relationship": " Husband",
                                    "race": " White",
                                    "sex": " Male",
                                    "capital-gain": 0,
                                    "capital-loss": 0,
                                    "hours-per-week": 50,
                                    "native-country": " United-States",
                                    "income": "<=50K",
                                    "_deepnote_index_column": 1
                                },
                                {
                                    "age": 28,
                                    "workclass": " Local-gov",
                                    "fnlwgt": 336951,
                                    "education": " Assoc-acdm",
                                    "education-num": 12,
                                    "marital-status": " Married-civ-spouse",
                                    "occupation": " Protective-serv",
                                    "relationship": " Husband",
                                    "race": " White",
                                    "sex": " Male",
                                    "capital-gain": 0,
                                    "capital-loss": 0,
                                    "hours-per-week": 40,
                                    "native-country": " United-States",
                                    "income": ">50K",
                                    "_deepnote_index_column": 2
                                },
                                {
                                    "age": 44,
                                    "workclass": " Private",
                                    "fnlwgt": 160323,
                                    "education": " Some-college",
                                    "education-num": 10,
                                    "marital-status": " Married-civ-spouse",
                                    "occupation": " Machine-op-inspct",
                                    "relationship": " Husband",
                                    "race": " Black",
                                    "sex": " Male",
                                    "capital-gain": 7688,
                                    "capital-loss": 0,
                                    "hours-per-week": 40,
                                    "native-country": " United-States",
                                    "income": ">50K",
                                    "_deepnote_index_column": 3
                                },
                                {
                                    "age": 18,
                                    "workclass": " ?",
                                    "fnlwgt": 103497,
                                    "education": " Some-college",
                                    "education-num": 10,
                                    "marital-status": " Never-married",
                                    "occupation": " ?",
                                    "relationship": " Own-child",
                                    "race": " White",
                                    "sex": " Female",
                                    "capital-gain": 0,
                                    "capital-loss": 0,
                                    "hours-per-week": 30,
                                    "native-country": " United-States",
                                    "income": "<=50K",
                                    "_deepnote_index_column": 4
                                },
                                {
                                    "age": 34,
                                    "workclass": " Private",
                                    "fnlwgt": 198693,
                                    "education": "10th",
                                    "education-num": 6,
                                    "marital-status": " Never-married",
                                    "occupation": " Other-service",
                                    "relationship": " Not-in-family",
                                    "race": " White",
                                    "sex": " Male",
                                    "capital-gain": 0,
                                    "capital-loss": 0,
                                    "hours-per-week": 30,
                                    "native-country": " United-States",
                                    "income": "<=50K",
                                    "_deepnote_index_column": 5
                                },
                                {
                                    "age": 29,
                                    "workclass": " ?",
                                    "fnlwgt": 227026,
                                    "education": " HS-grad",
                                    "education-num": 9,
                                    "marital-status": " Never-married",
                                    "occupation": " ?",
                                    "relationship": " Unmarried",
                                    "race": " Black",
                                    "sex": " Male",
                                    "capital-gain": 0,
                                    "capital-loss": 0,
                                    "hours-per-week": 40,
                                    "native-country": " United-States",
                                    "income": "<=50K",
                                    "_deepnote_index_column": 6
                                },
                                {
                                    "age": 63,
                                    "workclass": " Self-emp-not-inc",
                                    "fnlwgt": 104626,
                                    "education": " Prof-school",
                                    "education-num": 15,
                                    "marital-status": " Married-civ-spouse",
                                    "occupation": " Prof-specialty",
                                    "relationship": " Husband",
                                    "race": " White",
                                    "sex": " Male",
                                    "capital-gain": 3103,
                                    "capital-loss": 0,
                                    "hours-per-week": 32,
                                    "native-country": " United-States",
                                    "income": ">50K",
                                    "_deepnote_index_column": 7
                                },
                                {
                                    "age": 24,
                                    "workclass": " Private",
                                    "fnlwgt": 369667,
                                    "education": " Some-college",
                                    "education-num": 10,
                                    "marital-status": " Never-married",
                                    "occupation": " Other-service",
                                    "relationship": " Unmarried",
                                    "race": " White",
                                    "sex": " Female",
                                    "capital-gain": 0,
                                    "capital-loss": 0,
                                    "hours-per-week": 40,
                                    "native-country": " United-States",
                                    "income": "<=50K",
                                    "_deepnote_index_column": 8
                                },
                                {
                                    "age": 55,
                                    "workclass": " Private",
                                    "fnlwgt": 104996,
                                    "education": "7th-8th",
                                    "education-num": 4,
                                    "marital-status": " Married-civ-spouse",
                                    "occupation": " Craft-repair",
                                    "relationship": " Husband",
                                    "race": " White",
                                    "sex": " Male",
                                    "capital-gain": 0,
                                    "capital-loss": 0,
                                    "hours-per-week": 10,
                                    "native-country": " United-States",
                                    "income": "<=50K",
                                    "_deepnote_index_column": 9
                                }
                            ],
                            "type": "dataframe"
                        },
                        "text/plain": "   age          workclass  fnlwgt      education  education-num  \\\n0   25            Private  226802           11th              7   \n1   38            Private   89814        HS-grad              9   \n2   28          Local-gov  336951     Assoc-acdm             12   \n3   44            Private  160323   Some-college             10   \n4   18                  ?  103497   Some-college             10   \n5   34            Private  198693           10th              6   \n6   29                  ?  227026        HS-grad              9   \n7   63   Self-emp-not-inc  104626    Prof-school             15   \n8   24            Private  369667   Some-college             10   \n9   55            Private  104996        7th-8th              4   \n\n        marital-status          occupation    relationship    race      sex  \\\n0        Never-married   Machine-op-inspct       Own-child   Black     Male   \n1   Married-civ-spouse     Farming-fishing         Husband   White     Male   \n2   Married-civ-spouse     Protective-serv         Husband   White     Male   \n3   Married-civ-spouse   Machine-op-inspct         Husband   Black     Male   \n4        Never-married                   ?       Own-child   White   Female   \n5        Never-married       Other-service   Not-in-family   White     Male   \n6        Never-married                   ?       Unmarried   Black     Male   \n7   Married-civ-spouse      Prof-specialty         Husband   White     Male   \n8        Never-married       Other-service       Unmarried   White   Female   \n9   Married-civ-spouse        Craft-repair         Husband   White     Male   \n\n   capital-gain  capital-loss  hours-per-week  native-country income  \n0             0             0              40   United-States  <=50K  \n1             0             0              50   United-States  <=50K  \n2             0             0              40   United-States   >50K  \n3          7688             0              40   United-States   >50K  \n4             0             0              30   United-States  <=50K  \n5             0             0              30   United-States  <=50K  \n6             0             0              40   United-States  <=50K  \n7          3103             0              32   United-States   >50K  \n8             0             0              40   United-States  <=50K  \n9             0             0              10   United-States  <=50K  ",
                        "text/html": "<div>\n<style scoped>\n    .dataframe tbody tr th:only-of-type {\n        vertical-align: middle;\n    }\n\n    .dataframe tbody tr th {\n        vertical-align: top;\n    }\n\n    .dataframe thead th {\n        text-align: right;\n    }\n</style>\n<table border=\"1\" class=\"dataframe\">\n  <thead>\n    <tr style=\"text-align: right;\">\n      <th></th>\n      <th>age</th>\n      <th>workclass</th>\n      <th>fnlwgt</th>\n      <th>education</th>\n      <th>education-num</th>\n      <th>marital-status</th>\n      <th>occupation</th>\n      <th>relationship</th>\n      <th>race</th>\n      <th>sex</th>\n      <th>capital-gain</th>\n      <th>capital-loss</th>\n      <th>hours-per-week</th>\n      <th>native-country</th>\n      <th>income</th>\n    </tr>\n  </thead>\n  <tbody>\n    <tr>\n      <th>0</th>\n      <td>25</td>\n      <td>Private</td>\n      <td>226802</td>\n      <td>11th</td>\n      <td>7</td>\n      <td>Never-married</td>\n      <td>Machine-op-inspct</td>\n      <td>Own-child</td>\n      <td>Black</td>\n      <td>Male</td>\n      <td>0</td>\n      <td>0</td>\n      <td>40</td>\n      <td>United-States</td>\n      <td>&lt;=50K</td>\n    </tr>\n    <tr>\n      <th>1</th>\n      <td>38</td>\n      <td>Private</td>\n      <td>89814</td>\n      <td>HS-grad</td>\n      <td>9</td>\n      <td>Married-civ-spouse</td>\n      <td>Farming-fishing</td>\n      <td>Husband</td>\n      <td>White</td>\n      <td>Male</td>\n      <td>0</td>\n      <td>0</td>\n      <td>50</td>\n      <td>United-States</td>\n      <td>&lt;=50K</td>\n    </tr>\n    <tr>\n      <th>2</th>\n      <td>28</td>\n      <td>Local-gov</td>\n      <td>336951</td>\n      <td>Assoc-acdm</td>\n      <td>12</td>\n      <td>Married-civ-spouse</td>\n      <td>Protective-serv</td>\n      <td>Husband</td>\n      <td>White</td>\n      <td>Male</td>\n      <td>0</td>\n      <td>0</td>\n      <td>40</td>\n      <td>United-States</td>\n      <td>&gt;50K</td>\n    </tr>\n    <tr>\n      <th>3</th>\n      <td>44</td>\n      <td>Private</td>\n      <td>160323</td>\n      <td>Some-college</td>\n      <td>10</td>\n      <td>Married-civ-spouse</td>\n      <td>Machine-op-inspct</td>\n      <td>Husband</td>\n      <td>Black</td>\n      <td>Male</td>\n      <td>7688</td>\n      <td>0</td>\n      <td>40</td>\n      <td>United-States</td>\n      <td>&gt;50K</td>\n    </tr>\n    <tr>\n      <th>4</th>\n      <td>18</td>\n      <td>?</td>\n      <td>103497</td>\n      <td>Some-college</td>\n      <td>10</td>\n      <td>Never-married</td>\n      <td>?</td>\n      <td>Own-child</td>\n      <td>White</td>\n      <td>Female</td>\n      <td>0</td>\n      <td>0</td>\n      <td>30</td>\n      <td>United-States</td>\n      <td>&lt;=50K</td>\n    </tr>\n    <tr>\n      <th>5</th>\n      <td>34</td>\n      <td>Private</td>\n      <td>198693</td>\n      <td>10th</td>\n      <td>6</td>\n      <td>Never-married</td>\n      <td>Other-service</td>\n      <td>Not-in-family</td>\n      <td>White</td>\n      <td>Male</td>\n      <td>0</td>\n      <td>0</td>\n      <td>30</td>\n      <td>United-States</td>\n      <td>&lt;=50K</td>\n    </tr>\n    <tr>\n      <th>6</th>\n      <td>29</td>\n      <td>?</td>\n      <td>227026</td>\n      <td>HS-grad</td>\n      <td>9</td>\n      <td>Never-married</td>\n      <td>?</td>\n      <td>Unmarried</td>\n      <td>Black</td>\n      <td>Male</td>\n      <td>0</td>\n      <td>0</td>\n      <td>40</td>\n      <td>United-States</td>\n      <td>&lt;=50K</td>\n    </tr>\n    <tr>\n      <th>7</th>\n      <td>63</td>\n      <td>Self-emp-not-inc</td>\n      <td>104626</td>\n      <td>Prof-school</td>\n      <td>15</td>\n      <td>Married-civ-spouse</td>\n      <td>Prof-specialty</td>\n      <td>Husband</td>\n      <td>White</td>\n      <td>Male</td>\n      <td>3103</td>\n      <td>0</td>\n      <td>32</td>\n      <td>United-States</td>\n      <td>&gt;50K</td>\n    </tr>\n    <tr>\n      <th>8</th>\n      <td>24</td>\n      <td>Private</td>\n      <td>369667</td>\n      <td>Some-college</td>\n      <td>10</td>\n      <td>Never-married</td>\n      <td>Other-service</td>\n      <td>Unmarried</td>\n      <td>White</td>\n      <td>Female</td>\n      <td>0</td>\n      <td>0</td>\n      <td>40</td>\n      <td>United-States</td>\n      <td>&lt;=50K</td>\n    </tr>\n    <tr>\n      <th>9</th>\n      <td>55</td>\n      <td>Private</td>\n      <td>104996</td>\n      <td>7th-8th</td>\n      <td>4</td>\n      <td>Married-civ-spouse</td>\n      <td>Craft-repair</td>\n      <td>Husband</td>\n      <td>White</td>\n      <td>Male</td>\n      <td>0</td>\n      <td>0</td>\n      <td>10</td>\n      <td>United-States</td>\n      <td>&lt;=50K</td>\n    </tr>\n  </tbody>\n</table>\n</div>"
                    },
                    "metadata": {}
                }
            ],
            "outputs_reference": "s3:deepnote-cell-outputs-production/f387820f-7c30-4e0d-935c-0e692931d606",
            "content_dependencies": null
        },
        {
            "cell_type": "markdown",
            "metadata": {
                "formattedRanges": [],
                "cell_id": "32003f1494a149fe8c2fdf7358227198",
                "deepnote_cell_type": "text-cell-p"
            },
            "source": "",
            "block_group": "733471886e03491cada655c1ac3e535f"
        },
        {
            "cell_type": "markdown",
            "source": "<a style='text-decoration:none;line-height:16px;display:flex;color:#5B5B62;padding:10px;justify-content:end;' href='https://deepnote.com?utm_source=created-in-deepnote-cell&projectId=ed8ee82d-024c-42a6-a706-167d58931311' target=\"_blank\">\n<img alt='Created in deepnote.com' style='display:inline;max-height:16px;margin:0px;margin-right:7.5px;' src='data:image/svg+xml;base64,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' > </img>\nCreated in <span style='font-weight:600;margin-left:4px;'>Deepnote</span></a>",
            "metadata": {
                "created_in_deepnote_cell": true,
                "deepnote_cell_type": "markdown"
            }
        }
    ],
    "nbformat": 4,
    "nbformat_minor": 0,
    "metadata": {
        "deepnote_notebook_id": "eb5b8fa551a544329b821ec91952f52a"
    }
}